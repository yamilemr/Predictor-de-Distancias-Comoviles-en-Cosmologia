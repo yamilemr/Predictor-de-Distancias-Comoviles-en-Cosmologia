{
 "cells": [
  {
   "cell_type": "markdown",
   "id": "a89a6510",
   "metadata": {},
   "source": [
    "# **Predictor de Distancias Comóviles en Cosmología**"
   ]
  },
  {
   "cell_type": "markdown",
   "id": "6e74f04c",
   "metadata": {},
   "source": [
    "Alumna: Yamile Montecinos Rodríguez  \n",
    "Asesor: Dr. Sebastien Mickael Marc Fromenteau  \n",
    "Contacto: yamile.montecinos@uaem.edu.mx  \n",
    "Agosto 2025"
   ]
  },
  {
   "cell_type": "markdown",
   "id": "59a0b12f",
   "metadata": {},
   "source": [
    "En este notebook se presenta una función que recibe como parámetros a $z$, $H_0$,  $\\Omega_m$ y $\\Omega_\\lambda$, con el objetivo de predecir la distancia comóvil. También se muestra la distancia comóvil calculada con la función definida en tools."
   ]
  },
  {
   "cell_type": "code",
   "execution_count": 5,
   "id": "49e5e97b",
   "metadata": {},
   "outputs": [],
   "source": [
    "import joblib\n",
    "import numpy as np\n",
    "import pandas as pd\n",
    "from tools import distancia_comovil\n",
    "from tensorflow.keras.models import load_model"
   ]
  },
  {
   "cell_type": "code",
   "execution_count": 6,
   "id": "0d5c7a08",
   "metadata": {},
   "outputs": [],
   "source": [
    "#Cargar el modelo ya entrenado y el scaler\n",
    "model = load_model('resources/modelo_distancia_comovil.h5', compile=False)\n",
    "scaler = joblib.load('resources/scaler.pkl')"
   ]
  },
  {
   "cell_type": "code",
   "execution_count": 7,
   "id": "9c583e93",
   "metadata": {},
   "outputs": [],
   "source": [
    "def predecir_distancia_comovil(z, H0, Omega_m, Omega_lambda):\n",
    "    #Calcular la distancia comóvil usando la función\n",
    "    valor_real = distancia_comovil(z, H0, Omega_m, Omega_lambda)\n",
    "\n",
    "    #Hacer la predicción con el modelo entrenado\n",
    "    nuevo_dato = np.array([[z, H0, Omega_m, Omega_lambda]])\n",
    "    nuevo_dato_df = pd.DataFrame(nuevo_dato, columns=['z', 'H0', 'Omega_m', 'Omega_lambda'])\n",
    "    nuevo_dato_scaled = scaler.transform(nuevo_dato_df) \n",
    "    prediccion_log = model.predict(nuevo_dato_scaled).flatten()[0] \n",
    "    valor_predicho = 10 ** prediccion_log #Invertir la transformación para obtener la distancia original\n",
    "\n",
    "    print(f\"Dc(z={z}, H0={H0}, Ω_m={Omega_m}, Ω_Λ={Omega_lambda}) = {valor_real} Mpc\")\n",
    "    print(f\"Dc_pred(z={z}, H0={H0}, Ω_m={Omega_m}, Ω_Λ={Omega_lambda}) = {valor_predicho} Mpc\")"
   ]
  },
  {
   "cell_type": "code",
   "execution_count": 8,
   "id": "5c97f099",
   "metadata": {},
   "outputs": [
    {
     "name": "stdout",
     "output_type": "stream",
     "text": [
      "\u001b[1m1/1\u001b[0m \u001b[32m━━━━━━━━━━━━━━━━━━━━\u001b[0m\u001b[37m\u001b[0m \u001b[1m0s\u001b[0m 49ms/step\n",
      "Dc(z=3.0, H0=70.0, Ω_m=0.3, Ω_Λ=0.7) = 6360.085385767909 Mpc\n",
      "Dc_pred(z=3.0, H0=70.0, Ω_m=0.3, Ω_Λ=0.7) = 6361.817959222124 Mpc\n"
     ]
    }
   ],
   "source": [
    "predecir_distancia_comovil(z=3.0, H0=70.0, Omega_m=0.3, Omega_lambda=0.7)"
   ]
  }
 ],
 "metadata": {
  "kernelspec": {
   "display_name": "ml",
   "language": "python",
   "name": "python3"
  },
  "language_info": {
   "codemirror_mode": {
    "name": "ipython",
    "version": 3
   },
   "file_extension": ".py",
   "mimetype": "text/x-python",
   "name": "python",
   "nbconvert_exporter": "python",
   "pygments_lexer": "ipython3",
   "version": "3.11.9"
  }
 },
 "nbformat": 4,
 "nbformat_minor": 5
}
